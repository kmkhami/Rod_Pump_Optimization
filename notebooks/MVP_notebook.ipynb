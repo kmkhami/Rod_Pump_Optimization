{
 "cells": [
  {
   "cell_type": "markdown",
   "metadata": {},
   "source": [
    "<p align=\"center\">\n",
    "    <img src=\"https://ars.els-cdn.com/content/image/3-s2.0-B9780081002858000055-f05-13-9780081002858.jpg\" width=\"220\" height=\"240\" />\n",
    "\n",
    "</p>\n",
    "\n",
    "# Exploratory Data Analysis - Rod Pump Optimization\n",
    "\n",
    "## Inventors Program Energy - NSC 325\n",
    "\n",
    "#### Written by: Nicholas Khami, Nashra Ali, Vrishank Jannu\n",
    "\n",
    "This notebook presents an implementation of a Random Forest Regression to predict the timing of a sucker rod pump failure. The data used for building the following model is provided by ConocoPhillips. The aim of this product is to assist production engineers in hypothesizing a better design for the downhole set-up in order to extend pump lifetimes. Thus, the company can cut yearly maintainence costs (i.e. part replacement) and consequently see an increase oil production per well. This benefits the company in guranteeing a higher return on their investments. \n"
   ]
  },
  {
   "cell_type": "markdown",
   "metadata": {},
   "source": [
    "### Imports"
   ]
  },
  {
   "cell_type": "code",
   "execution_count": 46,
   "metadata": {},
   "outputs": [],
   "source": [
    "import glob\n",
    "from datetime import datetime\n",
    "import pandas as pd\n",
    "import numpy as np\n",
    "from scipy import stats\n",
    "from scipy.integrate import quad\n",
    "from scipy.optimize import curve_fit\n",
    "from sklearn.preprocessing import LabelEncoder\n",
    "from sklearn.model_selection import train_test_split\n",
    "from sklearn.tree import DecisionTreeRegressor\n",
    "from sklearn.ensemble import RandomForestRegressor\n",
    "from sklearn.model_selection import GridSearchCV\n",
    "from sklearn.model_selection import RandomizedSearchCV\n",
    "from sklearn import tree\n",
    "import matplotlib.pyplot as plt\n",
    "import seaborn as sns\n",
    "from scipy import stats"
   ]
  },
  {
   "cell_type": "markdown",
   "metadata": {},
   "source": [
    "### Minimal Data Cleaning\n",
    "To begin approaching the problem, it is important to get a feel for the data that we will be working with. The following code displays the head of the data and dataframe properties. The data documents mechanical and chemical parameters of various wells owned by ConocoPhillips."
   ]
  },
  {
   "cell_type": "code",
   "execution_count": 47,
   "metadata": {},
   "outputs": [
    {
     "data": {
      "text/html": [
       "<div>\n",
       "<style scoped>\n",
       "    .dataframe tbody tr th:only-of-type {\n",
       "        vertical-align: middle;\n",
       "    }\n",
       "\n",
       "    .dataframe tbody tr th {\n",
       "        vertical-align: top;\n",
       "    }\n",
       "\n",
       "    .dataframe thead th {\n",
       "        text-align: right;\n",
       "    }\n",
       "</style>\n",
       "<table border=\"1\" class=\"dataframe\">\n",
       "  <thead>\n",
       "    <tr style=\"text-align: right;\">\n",
       "      <th></th>\n",
       "      <th>roduid</th>\n",
       "      <th>UWI</th>\n",
       "      <th>NODEID</th>\n",
       "      <th>IDWELL</th>\n",
       "      <th>tbguid</th>\n",
       "      <th>lifetime_start</th>\n",
       "      <th>lifetime_end</th>\n",
       "      <th>IDRECJOBPULL</th>\n",
       "      <th>REPORTTO</th>\n",
       "      <th>FAILSTART</th>\n",
       "      <th>...</th>\n",
       "      <th>overall_max_sideload</th>\n",
       "      <th>shallow_max_sideload</th>\n",
       "      <th>max_unguided_sideload</th>\n",
       "      <th>DESANDDEGAS_TYP</th>\n",
       "      <th>CHROME_LENGTH</th>\n",
       "      <th>ENDURALLOY_LENGTH</th>\n",
       "      <th>POLY_LENGTH</th>\n",
       "      <th>NIPPLE_SET_DEPTH</th>\n",
       "      <th>pump_bore</th>\n",
       "      <th>gasanchor_od</th>\n",
       "    </tr>\n",
       "  </thead>\n",
       "  <tbody>\n",
       "    <tr>\n",
       "      <th>0</th>\n",
       "      <td>GB27GKBE51029074693667</td>\n",
       "      <td>175-58-0111</td>\n",
       "      <td>box-child-doctor</td>\n",
       "      <td>GPVO63973435661154</td>\n",
       "      <td>GB55QFGB46756147811400</td>\n",
       "      <td>2014-05-02 00:00:00.000</td>\n",
       "      <td>2019-01-04 10:00:00.000</td>\n",
       "      <td>FGNB86581338411987</td>\n",
       "      <td>Tubing</td>\n",
       "      <td>2018-12-11 00:00:00.000</td>\n",
       "      <td>...</td>\n",
       "      <td>NaN</td>\n",
       "      <td>NaN</td>\n",
       "      <td>NaN</td>\n",
       "      <td>UNKNOWN</td>\n",
       "      <td>0.0</td>\n",
       "      <td>0.00</td>\n",
       "      <td>0.0</td>\n",
       "      <td>10024.8</td>\n",
       "      <td>1.5</td>\n",
       "      <td>NaN</td>\n",
       "    </tr>\n",
       "    <tr>\n",
       "      <th>1</th>\n",
       "      <td>GB53OEVX46438297645035</td>\n",
       "      <td>333-68-3523</td>\n",
       "      <td>outside-worry</td>\n",
       "      <td>ZAYT33358197650329</td>\n",
       "      <td>GB29QCCC14341267287129</td>\n",
       "      <td>2018-01-28 14:00:00.000</td>\n",
       "      <td>2019-05-17 12:00:00.000</td>\n",
       "      <td>XRYU81281518151403</td>\n",
       "      <td>Tubing</td>\n",
       "      <td>2019-04-01 00:00:00.000</td>\n",
       "      <td>...</td>\n",
       "      <td>179.44</td>\n",
       "      <td>179.44</td>\n",
       "      <td>179.44</td>\n",
       "      <td>Miller LLC</td>\n",
       "      <td>0.0</td>\n",
       "      <td>0.00</td>\n",
       "      <td>0.0</td>\n",
       "      <td>10235.6</td>\n",
       "      <td>1.5</td>\n",
       "      <td>3.5</td>\n",
       "    </tr>\n",
       "    <tr>\n",
       "      <th>2</th>\n",
       "      <td>GB95BPWW35640301552066</td>\n",
       "      <td>165-51-5897</td>\n",
       "      <td>near-learn-simply</td>\n",
       "      <td>FNVL11432909873086</td>\n",
       "      <td>GB02DJAW44801752494129</td>\n",
       "      <td>2011-09-14 00:00:00.000</td>\n",
       "      <td>2012-08-20 00:00:00.000</td>\n",
       "      <td>PLPR44121073149707</td>\n",
       "      <td>Sucker Rod Pump</td>\n",
       "      <td>2012-08-01 00:00:00.000</td>\n",
       "      <td>...</td>\n",
       "      <td>105.76</td>\n",
       "      <td>105.76</td>\n",
       "      <td>105.76</td>\n",
       "      <td>Miller LLC</td>\n",
       "      <td>0.0</td>\n",
       "      <td>0.00</td>\n",
       "      <td>0.0</td>\n",
       "      <td>10401.9</td>\n",
       "      <td>1.5</td>\n",
       "      <td>NaN</td>\n",
       "    </tr>\n",
       "    <tr>\n",
       "      <th>3</th>\n",
       "      <td>GB79UEDN31454825972680</td>\n",
       "      <td>543-56-3494</td>\n",
       "      <td>sea-improve-place</td>\n",
       "      <td>JOKL33317998159514</td>\n",
       "      <td>GB84GHPH97287631470412</td>\n",
       "      <td>2016-01-12 09:00:00.000</td>\n",
       "      <td>2017-03-16 16:30:00.000</td>\n",
       "      <td>MYCF04792093856141</td>\n",
       "      <td>Sucker Rod Pump</td>\n",
       "      <td>2017-01-19 00:00:00.000</td>\n",
       "      <td>...</td>\n",
       "      <td>98.18</td>\n",
       "      <td>47.96</td>\n",
       "      <td>98.18</td>\n",
       "      <td>Miller LLC</td>\n",
       "      <td>0.0</td>\n",
       "      <td>0.00</td>\n",
       "      <td>0.0</td>\n",
       "      <td>9557.7</td>\n",
       "      <td>1.75</td>\n",
       "      <td>4.5</td>\n",
       "    </tr>\n",
       "    <tr>\n",
       "      <th>4</th>\n",
       "      <td>GB20XCTM13691331349509</td>\n",
       "      <td>391-37-2039</td>\n",
       "      <td>personal-candidate</td>\n",
       "      <td>XOSU92041716672870</td>\n",
       "      <td>GB08VYTX61977431827206</td>\n",
       "      <td>2018-06-14 13:00:00.000</td>\n",
       "      <td>2020-04-15 17:37:11.338</td>\n",
       "      <td>WJDB83445325478746</td>\n",
       "      <td>NaN</td>\n",
       "      <td>NaN</td>\n",
       "      <td>...</td>\n",
       "      <td>266.68</td>\n",
       "      <td>266.68</td>\n",
       "      <td>170.99</td>\n",
       "      <td>Miller LLC</td>\n",
       "      <td>0.0</td>\n",
       "      <td>129.39</td>\n",
       "      <td>0.0</td>\n",
       "      <td>9681.7</td>\n",
       "      <td>1.75</td>\n",
       "      <td>NaN</td>\n",
       "    </tr>\n",
       "  </tbody>\n",
       "</table>\n",
       "<p>5 rows × 55 columns</p>\n",
       "</div>"
      ],
      "text/plain": [
       "                   roduid          UWI              NODEID  \\\n",
       "0  GB27GKBE51029074693667  175-58-0111    box-child-doctor   \n",
       "1  GB53OEVX46438297645035  333-68-3523       outside-worry   \n",
       "2  GB95BPWW35640301552066  165-51-5897   near-learn-simply   \n",
       "3  GB79UEDN31454825972680  543-56-3494   sea-improve-place   \n",
       "4  GB20XCTM13691331349509  391-37-2039  personal-candidate   \n",
       "\n",
       "               IDWELL                  tbguid           lifetime_start  \\\n",
       "0  GPVO63973435661154  GB55QFGB46756147811400  2014-05-02 00:00:00.000   \n",
       "1  ZAYT33358197650329  GB29QCCC14341267287129  2018-01-28 14:00:00.000   \n",
       "2  FNVL11432909873086  GB02DJAW44801752494129  2011-09-14 00:00:00.000   \n",
       "3  JOKL33317998159514  GB84GHPH97287631470412  2016-01-12 09:00:00.000   \n",
       "4  XOSU92041716672870  GB08VYTX61977431827206  2018-06-14 13:00:00.000   \n",
       "\n",
       "              lifetime_end        IDRECJOBPULL         REPORTTO  \\\n",
       "0  2019-01-04 10:00:00.000  FGNB86581338411987           Tubing   \n",
       "1  2019-05-17 12:00:00.000  XRYU81281518151403           Tubing   \n",
       "2  2012-08-20 00:00:00.000  PLPR44121073149707  Sucker Rod Pump   \n",
       "3  2017-03-16 16:30:00.000  MYCF04792093856141  Sucker Rod Pump   \n",
       "4  2020-04-15 17:37:11.338  WJDB83445325478746              NaN   \n",
       "\n",
       "                 FAILSTART  ... overall_max_sideload  shallow_max_sideload  \\\n",
       "0  2018-12-11 00:00:00.000  ...                  NaN                   NaN   \n",
       "1  2019-04-01 00:00:00.000  ...               179.44                179.44   \n",
       "2  2012-08-01 00:00:00.000  ...               105.76                105.76   \n",
       "3  2017-01-19 00:00:00.000  ...                98.18                 47.96   \n",
       "4                      NaN  ...               266.68                266.68   \n",
       "\n",
       "   max_unguided_sideload  DESANDDEGAS_TYP  CHROME_LENGTH  ENDURALLOY_LENGTH  \\\n",
       "0                    NaN          UNKNOWN            0.0               0.00   \n",
       "1                 179.44       Miller LLC            0.0               0.00   \n",
       "2                 105.76       Miller LLC            0.0               0.00   \n",
       "3                  98.18       Miller LLC            0.0               0.00   \n",
       "4                 170.99       Miller LLC            0.0             129.39   \n",
       "\n",
       "   POLY_LENGTH  NIPPLE_SET_DEPTH pump_bore  gasanchor_od  \n",
       "0          0.0           10024.8       1.5           NaN  \n",
       "1          0.0           10235.6       1.5           3.5  \n",
       "2          0.0           10401.9       1.5           NaN  \n",
       "3          0.0            9557.7      1.75           4.5  \n",
       "4          0.0            9681.7      1.75           NaN  \n",
       "\n",
       "[5 rows x 55 columns]"
      ]
     },
     "execution_count": 47,
     "metadata": {},
     "output_type": "execute_result"
    }
   ],
   "source": [
    "rpdf = pd.read_csv(\"../UT_RodPump_Dataset/rodpump_failure.csv\")\n",
    "rpdf.head()"
   ]
  },
  {
   "cell_type": "markdown",
   "metadata": {},
   "source": [
    "To begin cleaning, we convert unique well IDs to reformatted integer values and change lifetime_start, lifetime_end, and FAILSTART variables from date objects into integers. We create a new variable \"lifetime\" to represent the total time a recorded well operates. This will serve as our predictor variable in the regression analysis. We will also at this stage drop rows with too many null values to be useful in training and testing, and will replace any remaining null values with the integer value of 0.\n",
    "\n",
    "After doing some exploratory data analysis and reviewing summary statsitcs for each feauture, we found the following to be useful for our model: AVG_LIQUID_VOLUME (oil and water), overall_max_sideload, NIPPLE_SET_DEPTH, and all of the average pressures. There were several features such as StrokeLength and Fillage that we thought may be good predictors of failure, but they lacked differentiation throughout the dataframe. \n",
    "\n",
    "We think that the features listed are promising because they have differentiation across their quartiles and strong representation throughout the dataframe. Additionally, we hypothesize that they will reflect overall stress on the Rod Pump. "
   ]
  },
  {
   "cell_type": "code",
   "execution_count": 48,
   "metadata": {},
   "outputs": [],
   "source": [
    "rpdf = rpdf.dropna(subset=['FAILSTART'], axis=0)\n",
    "rpdf['UWI'] = rpdf['UWI'].replace('-', '', regex=True).astype(int)\n",
    "\n",
    "rpdf['lifetime_start'] = pd.to_datetime(rpdf['lifetime_start'], format=\"%Y-%m-%d %H:%M:%S.%f\")\n",
    "rpdf['lifetime_start'] = rpdf['lifetime_start'].astype(int)\n",
    "\n",
    "rpdf['lifetime_end'] = pd.to_datetime(rpdf['lifetime_end'], format=\"%Y-%m-%d %H:%M:%S.%f\")\n",
    "rpdf['lifetime_end'] = rpdf['lifetime_end'].astype(int)\n",
    "\n",
    "rpdf['FAILSTART'] = pd.to_datetime(rpdf['FAILSTART'], format=\"%Y-%m-%d %H:%M:%S.%f\")\n",
    "rpdf['FAILSTART'] = rpdf['FAILSTART'].astype(int)\n",
    "\n",
    "rpdf['pump_bore'].replace(to_replace=\"Other\", value=0, inplace=True)\n",
    "rpdf['pump_bore'] = rpdf['pump_bore'].astype(float)\n",
    "\n",
    "rpdf['lifetime'] = rpdf['lifetime_end'] - rpdf['lifetime_start']\n",
    "\n",
    "rpdf.drop(['GrossStrokeLength', 'YesterdaysAverageSPM', 'shallow_max_sideload', 'max_unguided_sideload', 'CHROME_LENGTH', 'ENDURALLOY_LENGTH', 'POLY_LENGTH', 'gasanchor_od', 'chemgroup3_all', 'REPORTTO'], axis=1, inplace=True)"
   ]
  },
  {
   "cell_type": "markdown",
   "metadata": {},
   "source": [
    "Next, we assign an integer to each unique value for non-numeric columns of data (i.e. represented as integers or floats), known as label encoding. Any remaining null or incomprehensible (inf) values are replaced with the integer \"0.\""
   ]
  },
  {
   "cell_type": "code",
   "execution_count": 49,
   "metadata": {},
   "outputs": [],
   "source": [
    "labelencoder = LabelEncoder()\n",
    "rpdf_cleaned = rpdf.copy()\n",
    "\n",
    "rpdf_cleaned['roduid'] = labelencoder.fit_transform(rpdf_cleaned['roduid'])\n",
    "rpdf_cleaned['IDWELL'] = labelencoder.fit_transform(rpdf_cleaned['IDWELL'])\n",
    "rpdf_cleaned['tbguid'] = labelencoder.fit_transform(rpdf_cleaned['tbguid'])\n",
    "rpdf_cleaned['IDRECJOBPULL'] = labelencoder.fit_transform(rpdf_cleaned['IDRECJOBPULL'])\n",
    "rpdf_cleaned['FAILURETYPE'] = labelencoder.fit_transform(rpdf_cleaned['FAILURETYPE'])\n",
    "rpdf_cleaned['bha_configuration'] = labelencoder.fit_transform(rpdf_cleaned['bha_configuration'])\n",
    "rpdf_cleaned['wellbore_category'] = labelencoder.fit_transform(rpdf_cleaned['wellbore_category'])\n",
    "rpdf_cleaned['manual_scale'] = labelencoder.fit_transform(rpdf_cleaned['manual_scale'])\n",
    "rpdf_cleaned['packer_vs_tac'] = labelencoder.fit_transform(rpdf_cleaned['packer_vs_tac'])\n",
    "rpdf_cleaned['rod_has_guides'] = labelencoder.fit_transform(rpdf_cleaned['rod_has_guides'])\n",
    "rpdf_cleaned['rod_make'] = labelencoder.fit_transform(rpdf_cleaned['rod_make'])\n",
    "rpdf_cleaned['rod_apigrade'] = labelencoder.fit_transform(rpdf_cleaned['rod_apigrade'])\n",
    "rpdf_cleaned['DESANDDEGAS_TYP'] = labelencoder.fit_transform(rpdf_cleaned['DESANDDEGAS_TYP'])\n",
    "rpdf_cleaned['rod_sinker_type'] = labelencoder.fit_transform(rpdf_cleaned['rod_sinker_type'])\n",
    "rpdf_cleaned['NODEID'] = labelencoder.fit_transform(rpdf_cleaned['NODEID'])\n",
    "\n",
    "rpdf_cleaned.fillna(0, inplace=True)\n",
    "rpdf_cleaned.replace([np.inf, -np.inf], 0, inplace=True)  "
   ]
  },
  {
   "cell_type": "markdown",
   "metadata": {},
   "source": [
    "# # we should do feature imputation at this stage"
   ]
  },
  {
   "cell_type": "markdown",
   "metadata": {},
   "source": [
    "We now assign a training and test set from the data. It is important that the training and test sets do not have any common data rows as this could affect the accuracy of our model."
   ]
  },
  {
   "cell_type": "code",
   "execution_count": 50,
   "metadata": {},
   "outputs": [],
   "source": [
    "\n",
    "X = rpdf_cleaned.drop(['FAILSTART', 'lifetime_start', 'lifetime_end', 'lifetime'], axis=1)\n",
    "y = rpdf_cleaned['lifetime']\n",
    "\n",
    "#split the data again into test and train sets\n",
    "X_train, X_test, y_train, y_test = train_test_split(X,y, test_size=0.3, random_state=0)"
   ]
  },
  {
   "cell_type": "markdown",
   "metadata": {},
   "source": [
    "Here we create random forest regressor object and pass our training set to it. We display the weights of each predictor variable in relation to their correlation with pump lifespan."
   ]
  },
  {
   "cell_type": "code",
   "execution_count": 71,
   "metadata": {},
   "outputs": [
    {
     "name": "stdout",
     "output_type": "stream",
     "text": [
      "Feature: roduid, Score: 0.01769\n",
      "Feature: UWI, Score: 0.02935\n",
      "Feature: NODEID, Score: 0.01638\n",
      "Feature: IDWELL, Score: 0.02429\n",
      "Feature: tbguid, Score: 0.03270\n",
      "Feature: IDRECJOBPULL, Score: 0.02078\n",
      "Feature: FAILURETYPE, Score: 0.00899\n",
      "Feature: H2S_CONCENTRATION, Score: 0.00280\n",
      "Feature: PrimarySetpoint, Score: 0.00981\n",
      "Feature: SecondarySetpoint, Score: 0.03521\n",
      "Feature: StrokeLength, Score: 0.01240\n",
      "Feature: Fillage, Score: 0.02465\n",
      "Feature: bha_configuration, Score: 0.01532\n",
      "Feature: chemgroup1_any, Score: 0.03524\n",
      "Feature: chemgroup1_all, Score: 0.01803\n",
      "Feature: chemgroup2_any, Score: 0.06462\n",
      "Feature: chemgroup2_all, Score: 0.05362\n",
      "Feature: chemgroup3_any, Score: 0.00161\n",
      "Feature: max_unguided_dls, Score: 0.02151\n",
      "Feature: dls_high_in_hole, Score: 0.01644\n",
      "Feature: gas_anchor_length, Score: 0.03932\n",
      "Feature: MAX_INCLINATION, Score: 0.02213\n",
      "Feature: wellbore_category, Score: 0.00442\n",
      "Feature: manual_scale, Score: 0.00260\n",
      "Feature: packer_vs_tac, Score: 0.01252\n",
      "Feature: AVG_PRESS_FLOWLINE, Score: 0.02857\n",
      "Feature: AVG_PRESSURE_TUBING, Score: 0.03971\n",
      "Feature: AVG_PRESSURE_CASING, Score: 0.06028\n",
      "Feature: AVG_DIFFERENTIAL_PRESSURE, Score: 0.02466\n",
      "Feature: AVG_OIL_VOLUME, Score: 0.03871\n",
      "Feature: AVG_WATER_VOLUME, Score: 0.05657\n",
      "Feature: AVG_LIQUID_VOLUME, Score: 0.03611\n",
      "Feature: AVG_WATERSG, Score: 0.04634\n",
      "Feature: rod_sinker_type, Score: 0.00448\n",
      "Feature: rod_has_guides, Score: 0.00274\n",
      "Feature: rod_make, Score: 0.00914\n",
      "Feature: rod_apigrade, Score: 0.00983\n",
      "Feature: ROUTE, Score: 0.02240\n",
      "Feature: overall_max_sideload, Score: 0.01486\n",
      "Feature: DESANDDEGAS_TYP, Score: 0.00821\n",
      "Feature: NIPPLE_SET_DEPTH, Score: 0.02888\n",
      "Feature: pump_bore, Score: 0.02607\n"
     ]
    },
    {
     "data": {
      "image/png": "[encoded data removed]",
      "text/plain": [
       "<Figure size 432x288 with 1 Axes>"
      ]
     },
     "metadata": {
      "needs_background": "light"
     },
     "output_type": "display_data"
    }
   ],
   "source": [
    "reg = RandomForestRegressor(bootstrap = True, max_depth = None, max_features = 'log2', n_estimators = 13)\n",
    "reg.fit(X_train, y_train)\n",
    "feature_names = list(X_train.columns)\n",
    "\n",
    "importance = reg.feature_importances_\n",
    "# summarize feature importance\n",
    "for i,v in enumerate(importance):\n",
    "\tprint('Feature: %s, Score: %.5f' % (feature_names[i],v))\n",
    "# plot feature importance\n",
    "plt.bar([x for x in range(len(importance))], importance)\n",
    "plt.show()"
   ]
  },
  {
   "cell_type": "code",
   "execution_count": 52,
   "metadata": {},
   "outputs": [
    {
     "name": "stdout",
     "output_type": "stream",
     "text": [
      "{'bootstrap': True, 'max_depth': None, 'max_features': 'log2', 'n_estimators': 13}\n"
     ]
    }
   ],
   "source": [
    "param_grid = {  'bootstrap': [True], 'max_depth': [5, 10, None], 'max_features': ['auto', 'log2'], 'n_estimators': [5, 6, 7, 8, 9, 10, 11, 12, 13, 15]}\n",
    "rfr = RandomForestRegressor(random_state = 35)\n",
    "g_search = GridSearchCV(estimator = rfr, param_grid = param_grid, cv = 3, n_jobs = 1, verbose = 0, return_train_score=True)\n",
    "g_search.fit(X_train, y_train)\n",
    "print(g_search.best_params_)"
   ]
  },
  {
   "cell_type": "code",
   "execution_count": 64,
   "metadata": {},
   "outputs": [
    {
     "data": {
      "text/plain": [
       "0.42325356489524824"
      ]
     },
     "execution_count": 64,
     "metadata": {},
     "output_type": "execute_result"
    }
   ],
   "source": [
    "g_search.best_score_"
   ]
  },
  {
   "cell_type": "code",
   "execution_count": 66,
   "metadata": {},
   "outputs": [
    {
     "name": "stdout",
     "output_type": "stream",
     "text": [
      "{'n_estimators': [1, 2, 3, 4, 5, 6, 7, 8, 9, 10, 11, 12, 13, 14, 15, 16, 17, 18, 19, 20], 'max_features': ['auto', 'sqrt', 'log2'], 'max_depth': [10, 20, 30, 40, 50, 60, 70, 80, 90, 100, 110, 120], 'min_samples_split': [2, 6, 10], 'min_samples_leaf': [1, 3, 4], 'bootstrap': [True, False]}\n"
     ]
    }
   ],
   "source": [
    "rfr_random_reg = RandomForestRegressor(random_state = 35)\n",
    "n_estimators = [int(x) for x in np.linspace(start = 1, stop = 20, num = 20)] # number of trees in the random forest\n",
    "max_features = ['auto', 'sqrt', 'log2'] # number of features in consideration at every split\n",
    "max_depth = [int(x) for x in np.linspace(10, 120, num = 12)] # maximum number of levels allowed in each decision tree\n",
    "min_samples_split = [2, 6, 10] # minimum sample number to split a node\n",
    "min_samples_leaf = [1, 3, 4] # minimum sample number that can be stored in a leaf node\n",
    "bootstrap = [True, False] # method used to sample data points\n",
    "r_grid = {'n_estimators': n_estimators, 'max_features': max_features, 'max_depth': max_depth, 'min_samples_split': min_samples_split, 'min_samples_leaf': min_samples_leaf, 'bootstrap': bootstrap}\n",
    "print(r_grid)"
   ]
  },
  {
   "cell_type": "code",
   "execution_count": 67,
   "metadata": {},
   "outputs": [
    {
     "name": "stdout",
     "output_type": "stream",
     "text": [
      "Fitting 3 folds for each of 20 candidates, totalling 60 fits\n",
      "-1.876059615577698e+16\n",
      "{'n_estimators': 11, 'min_samples_split': 2, 'min_samples_leaf': 3, 'max_features': 'sqrt', 'max_depth': 20, 'bootstrap': False}\n"
     ]
    }
   ],
   "source": [
    "rfr_random = RandomizedSearchCV(estimator=rfr_random_reg, param_distributions=r_grid, n_iter = 20, scoring='neg_mean_absolute_error', cv = 3, verbose=2, random_state=42, n_jobs=-1, return_train_score=True)\n",
    "rfr_random.fit(X_train, y_train)\n",
    "print(rfr_random.best_score_)\n",
    "print(rfr_random.best_params_)"
   ]
  },
  {
   "cell_type": "code",
   "execution_count": 56,
   "metadata": {},
   "outputs": [
    {
     "name": "stdout",
     "output_type": "stream",
     "text": [
      "-1.7956514365770638e+16\n"
     ]
    }
   ],
   "source": [
    "print(rfr_random.score(X_test , y_test))"
   ]
  },
  {
   "cell_type": "code",
   "execution_count": 74,
   "metadata": {},
   "outputs": [
    {
     "data": {
      "text/plain": [
       "0.3202999908169646"
      ]
     },
     "execution_count": 74,
     "metadata": {},
     "output_type": "execute_result"
    }
   ],
   "source": [
    "#score it up\n",
    "reg.score(X_test, y_test)"
   ]
  },
  {
   "cell_type": "code",
   "execution_count": 77,
   "metadata": {},
   "outputs": [],
   "source": [
    "# #and export so we can visualize what is going on\n",
    "for k in range(12):\n",
    "   dot_data = tree.export_graphviz(reg.estimators_[k+1], out_file='reggraph_' + str((k+1)), feature_names=X.columns, filled=True)\n",
    "# tree.plot_tree(reg.estimators_[1])"
   ]
  }
 ],
 "metadata": {
  "interpreter": {
   "hash": "17e29cde45da0d32633f55abd6cb6a5bca12e2057e0797ef7723f4ac1a18b47e"
  },
  "kernelspec": {
   "display_name": "Python 3",
   "language": "python",
   "name": "python3"
  },
  "language_info": {
   "codemirror_mode": {
    "name": "ipython",
    "version": 3
   },
   "file_extension": ".py",
   "mimetype": "text/x-python",
   "name": "python",
   "nbconvert_exporter": "python",
   "pygments_lexer": "ipython3",
   "version": "3.8.8"
  }
 },
 "nbformat": 4,
 "nbformat_minor": 2
}
